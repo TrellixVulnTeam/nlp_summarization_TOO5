{
 "cells": [
  {
   "cell_type": "code",
   "execution_count": 2,
   "metadata": {},
   "outputs": [],
   "source": [
    "from bert_score import BERTScorer\n",
    "import files2rouge\n",
    "import numpy as np\n",
    "from rouge import Rouge, FilesRouge\n",
    "import matplotlib.pyplot as plt"
   ]
  },
  {
   "cell_type": "code",
   "execution_count": 3,
   "metadata": {},
   "outputs": [],
   "source": [
    "NUM_SAMPLES = 100\n",
    "DIR = '/Users/alexgaskell/GoogleDrive/Documents/Imperial/Individual_project/datasets/cnn_dm/rouge_tests/'"
   ]
  },
  {
   "cell_type": "code",
   "execution_count": 5,
   "metadata": {},
   "outputs": [],
   "source": [
    "cands = [line.strip() for line in open(DIR + \"small.hypo\").readlines()[:NUM_SAMPLES]]\n",
    "refs = [line.strip() for line in open(DIR + \"small.target\").readlines()[:NUM_SAMPLES]]\n",
    "\n",
    "scorer = BERTScorer(lang=\"en\", rescale_with_baseline=True)\n",
    "P, R, F1 = scorer.score(cands, refs)\n",
    "b_scores = F1.tolist()"
   ]
  },
  {
   "cell_type": "code",
   "execution_count": 4,
   "metadata": {},
   "outputs": [],
   "source": [
    "variant='lines'\n",
    "hyps = DIR + \"small.hypo.tokenized\"\n",
    "refs = DIR + \"small.target.tokenized\"\n",
    "\n",
    "if variant == 'official':\n",
    "    files2rouge.run(hyps, refs) #, saveto='rouge_output.txt')\n",
    "\n",
    "elif variant == 'files':\n",
    "    scores = FilesRouge().get_scores(hyps, refs, avg=True)\n",
    "    print(score)\n",
    "\n",
    "else:\n",
    "    cands = [line.strip() for line in open(hyps).readlines()[:NUM_SAMPLES]]\n",
    "    refs = [line.strip() for line in open(refs).readlines()[:NUM_SAMPLES]]\n",
    "\n",
    "    scrs = [Rouge().get_scores(c, r) for c,r in zip(cands, refs)]\n",
    "    scores = np.array([[s[0]['rouge-1']['f'], s[0]['rouge-2']['f'], s[0]['rouge-l']['f']]  for s in scrs])\n",
    "\n",
    "    # print(np.mean(scores, axis=0))\n",
    "    # print(scores)"
   ]
  },
  {
   "cell_type": "code",
   "execution_count": 7,
   "metadata": {},
   "outputs": [
    {
     "data": {
      "image/png": "[encoded data removed]",
      "text/plain": [
       "<Figure size 432x288 with 1 Axes>"
      ]
     },
     "metadata": {
      "needs_background": "light"
     },
     "output_type": "display_data"
    }
   ],
   "source": [
    "plt.scatter(F1.tolist(), scores[:,0])\n",
    "plt.xlabel()\n",
    "plt.show()"
   ]
  },
  {
   "cell_type": "code",
   "execution_count": null,
   "metadata": {},
   "outputs": [],
   "source": []
  },
  {
   "cell_type": "code",
   "execution_count": null,
   "metadata": {},
   "outputs": [],
   "source": []
  },
  {
   "cell_type": "code",
   "execution_count": null,
   "metadata": {},
   "outputs": [],
   "source": []
  },
  {
   "cell_type": "code",
   "execution_count": null,
   "metadata": {},
   "outputs": [],
   "source": []
  }
 ],
 "metadata": {
  "kernelspec": {
   "display_name": "Python 3.7.3 64-bit",
   "language": "python",
   "name": "python37364bit2bd5860e2c3043a59c732a3f2e8af3ed"
  },
  "language_info": {
   "codemirror_mode": {
    "name": "ipython",
    "version": 3
   },
   "file_extension": ".py",
   "mimetype": "text/x-python",
   "name": "python",
   "nbconvert_exporter": "python",
   "pygments_lexer": "ipython3",
   "version": "3.7.3"
  }
 },
 "nbformat": 4,
 "nbformat_minor": 4
}
