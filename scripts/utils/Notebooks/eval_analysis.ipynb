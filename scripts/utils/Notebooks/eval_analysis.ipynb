{
 "cells": [
  {
   "cell_type": "code",
   "execution_count": null,
   "metadata": {},
   "outputs": [],
   "source": []
  },
  {
   "cell_type": "code",
   "execution_count": 12,
   "metadata": {},
   "outputs": [],
   "source": [
    "NUM_SAMPLES = 500\n",
    "DIR = '/Users/alexgaskell/GoogleDrive/Documents/Imperial/Individual_project/datasets/cnn_dm/rouge_tests/'"
   ]
  },
  {
   "cell_type": "code",
   "execution_count": 13,
   "metadata": {},
   "outputs": [],
   "source": [
    "from bert_score import BERTScorer\n",
    "\n",
    "# cands = [line.strip() for line in open(DIR + \"small.hypo\").readlines()[:NUM_SAMPLES]]\n",
    "# refs = [line.strip() for line in open(DIR + \"small.target\").readlines()[:NUM_SAMPLES]]\n",
    "\n",
    "cands = [line.strip() for line in open(DIR + \"hf_test.hypo\").readlines()[:NUM_SAMPLES]]\n",
    "refs = [line.strip() for line in open(DIR + \"test.target\").readlines()[:NUM_SAMPLES]]\n",
    "\n",
    "scorer = BERTScorer(lang=\"en\", rescale_with_baseline=True)\n",
    "P, R, F1 = scorer.score(cands, refs)\n",
    "b_scores = F1.tolist()"
   ]
  },
  {
   "cell_type": "code",
   "execution_count": 14,
   "metadata": {},
   "outputs": [],
   "source": [
    "from rouge import Rouge, FilesRouge\n",
    "import files2rouge\n",
    "import numpy as np\n",
    "\n",
    "variant='lines'\n",
    "# hyps = DIR + \"small.hypo.tokenized\"\n",
    "# refs = DIR + \"small.target.tokenized\"\n",
    "hyps = DIR + \"hf_test.hypo\"\n",
    "refs = DIR + \"test.target\"\n",
    "\n",
    "if variant == 'official':\n",
    "    files2rouge.run(hyps, refs) #, saveto='rouge_output.txt')\n",
    "\n",
    "elif variant == 'files':\n",
    "    scores = FilesRouge().get_scores(hyps, refs, avg=True)\n",
    "    print(score)\n",
    "\n",
    "else:\n",
    "    cands = [line.strip() for line in open(hyps).readlines()[:NUM_SAMPLES]]\n",
    "    refs = [line.strip() for line in open(refs).readlines()[:NUM_SAMPLES]]\n",
    "\n",
    "    scrs = [Rouge().get_scores(c, r) for c,r in zip(cands, refs)]\n",
    "    scores = np.array([[s[0]['rouge-1']['f'], s[0]['rouge-2']['f'], s[0]['rouge-l']['f']]  for s in scrs])\n",
    "\n",
    "    # print(np.mean(scores, axis=0))\n",
    "    # print(scores)\n",
    "r_scores = scores"
   ]
  },
  {
   "cell_type": "code",
   "execution_count": 15,
   "metadata": {},
   "outputs": [
    {
     "data": {
      "image/png": "[encoded data removed]",
      "text/plain": [
       "<Figure size 432x288 with 1 Axes>"
      ]
     },
     "metadata": {
      "needs_background": "light"
     },
     "output_type": "display_data"
    },
    {
     "name": "stdout",
     "output_type": "stream",
     "text": [
      "(0.8084743588753239, 9.778288847157587e-117)\n"
     ]
    }
   ],
   "source": [
    "import matplotlib.pyplot as plt\n",
    "\n",
    "r_scores = scores[:, 0]\n",
    "\n",
    "plt.scatter(b_scores, r_scores)\n",
    "plt.xlabel('BERTScore [-1,1]')\n",
    "plt.ylabel('Rouge score [0,1]')\n",
    "plt.show()\n",
    "\n",
    "from scipy import stats\n",
    "\n",
    "p_r = stats.pearsonr(b_scores, r_scores)\n",
    "print(p_r)"
   ]
  },
  {
   "cell_type": "code",
   "execution_count": 10,
   "metadata": {},
   "outputs": [
    {
     "name": "stdout",
     "output_type": "stream",
     "text": [
      "tensor(39) tensor(-0.0145)\n"
     ]
    }
   ],
   "source": [
    "print(F1.argmin(), F1.min())"
   ]
  },
  {
   "cell_type": "code",
   "execution_count": 11,
   "metadata": {},
   "outputs": [
    {
     "name": "stdout",
     "output_type": "stream",
     "text": [
      "72 0.06896551279693515\n"
     ]
    }
   ],
   "source": [
    "print(np.argmin(r_scores), np.min(r_scores))"
   ]
  },
  {
   "cell_type": "code",
   "execution_count": null,
   "metadata": {},
   "outputs": [],
   "source": []
  },
  {
   "cell_type": "code",
   "execution_count": null,
   "metadata": {},
   "outputs": [],
   "source": []
  }
 ],
 "metadata": {
  "kernelspec": {
   "display_name": "Python 3.7.3 64-bit",
   "language": "python",
   "name": "python37364bit2bd5860e2c3043a59c732a3f2e8af3ed"
  },
  "language_info": {
   "codemirror_mode": {
    "name": "ipython",
    "version": 3
   },
   "file_extension": ".py",
   "mimetype": "text/x-python",
   "name": "python",
   "nbconvert_exporter": "python",
   "pygments_lexer": "ipython3",
   "version": "3.7.3"
  }
 },
 "nbformat": 4,
 "nbformat_minor": 4
}
